{
  "cells": [
    {
      "cell_type": "markdown",
      "metadata": {
        "id": "yyAQVz2cprtP"
      },
      "source": [
        "# Initialization"
      ]
    },
    {
      "cell_type": "code",
      "execution_count": 1,
      "metadata": {
        "id": "5lhJuj6a-Yft"
      },
      "outputs": [],
      "source": [
        "import tensorflow as tf\n",
        "from tensorflow.keras.applications import VGG16\n",
        "from tensorflow.keras import layers\n",
        "from tensorflow.keras.layers import GlobalAveragePooling2D, Dropout, Dense\n",
        "from tensorflow.keras.models import Model\n",
        "from tensorflow.keras.datasets import cifar10\n",
        "from tensorflow.keras.utils import to_categorical\n",
        "from sklearn.model_selection import train_test_split\n",
        "from tensorflow.keras.optimizers import SGD, Adam, Nadam, AdamW\n",
        "from tensorflow.keras.optimizers import Optimizer\n",
        "from tensorflow.keras.models import save_model\n",
        "import time\n",
        "import matplotlib.pyplot as plt"
      ]
    },
    {
      "cell_type": "code",
      "execution_count": 2,
      "metadata": {
        "colab": {
          "base_uri": "https://localhost:8080/"
        },
        "id": "o41m6R8-pVd9",
        "outputId": "d1c3cec6-0cb2-422d-8e7d-33286619a5d8"
      },
      "outputs": [
        {
          "name": "stdout",
          "output_type": "stream",
          "text": [
            "Sat May 10 18:01:57 2025       \n",
            "+-----------------------------------------------------------------------------------------+\n",
            "| NVIDIA-SMI 550.54.15              Driver Version: 550.54.15      CUDA Version: 12.4     |\n",
            "|-----------------------------------------+------------------------+----------------------+\n",
            "| GPU  Name                 Persistence-M | Bus-Id          Disp.A | Volatile Uncorr. ECC |\n",
            "| Fan  Temp   Perf          Pwr:Usage/Cap |           Memory-Usage | GPU-Util  Compute M. |\n",
            "|                                         |                        |               MIG M. |\n",
            "|=========================================+========================+======================|\n",
            "|   0  Tesla T4                       Off |   00000000:00:04.0 Off |                    0 |\n",
            "| N/A   44C    P8             10W /   70W |       0MiB /  15360MiB |      0%      Default |\n",
            "|                                         |                        |                  N/A |\n",
            "+-----------------------------------------+------------------------+----------------------+\n",
            "                                                                                         \n",
            "+-----------------------------------------------------------------------------------------+\n",
            "| Processes:                                                                              |\n",
            "|  GPU   GI   CI        PID   Type   Process name                              GPU Memory |\n",
            "|        ID   ID                                                               Usage      |\n",
            "|=========================================================================================|\n",
            "|  No running processes found                                                             |\n",
            "+-----------------------------------------------------------------------------------------+\n"
          ]
        }
      ],
      "source": [
        "!nvidia-smi"
      ]
    },
    {
      "cell_type": "code",
      "execution_count": 4,
      "metadata": {
        "colab": {
          "base_uri": "https://localhost:8080/"
        },
        "id": "TKQNY2kEjFNc",
        "outputId": "13df20e8-b435-43e1-f563-4bae6b46ee4b"
      },
      "outputs": [
        {
          "name": "stdout",
          "output_type": "stream",
          "text": [
            "Mounted at /content/drive\n"
          ]
        }
      ],
      "source": [
        "from google.colab import drive\n",
        "drive.mount('/content/drive')"
      ]
    },
    {
      "cell_type": "code",
      "execution_count": 5,
      "metadata": {
        "id": "t_5l2lfxjLmj"
      },
      "outputs": [],
      "source": [
        "import os\n",
        "import json\n",
        "import pickle\n",
        "\n",
        "def save_all_results(name, history, model, training_time, test_accuracy, save_dir='/content/drive/MyDrive/vgg_results'):\n",
        "    os.makedirs(save_dir, exist_ok=True)\n",
        "\n",
        "    with open(os.path.join(save_dir, f'{name}_history.json'), 'w') as f:\n",
        "        json.dump(history.history, f)\n",
        "\n",
        "    model.save(os.path.join(save_dir, f'{name}_model.h5'))\n",
        "\n",
        "    summary = {\n",
        "        'training_time': training_time,\n",
        "        'test_accuracy': test_accuracy\n",
        "    }\n",
        "    with open(os.path.join(save_dir, f'{name}_summary.json'), 'w') as f:\n",
        "        json.dump(summary, f)"
      ]
    },
    {
      "cell_type": "markdown",
      "metadata": {
        "id": "D2OGbAc0p3Gg"
      },
      "source": [
        "# Data Preprocessing"
      ]
    },
    {
      "cell_type": "code",
      "execution_count": 6,
      "metadata": {
        "colab": {
          "base_uri": "https://localhost:8080/"
        },
        "id": "-Qgl5O26pWxY",
        "outputId": "9148a105-e653-47f2-b35f-0354b4560c67"
      },
      "outputs": [
        {
          "name": "stdout",
          "output_type": "stream",
          "text": [
            "Downloading data from https://www.cs.toronto.edu/~kriz/cifar-10-python.tar.gz\n",
            "\u001b[1m170498071/170498071\u001b[0m \u001b[32m━━━━━━━━━━━━━━━━━━━━\u001b[0m\u001b[37m\u001b[0m \u001b[1m14s\u001b[0m 0us/step\n"
          ]
        }
      ],
      "source": [
        "(x_train, y_train), (x_test, y_test) = cifar10.load_data()\n",
        "\n",
        "y_train, y_test = to_categorical(y_train, 10), to_categorical(y_test, 10)  # One-hot encoding\n",
        "\n",
        "# Split training data into train and validation sets\n",
        "x_train, x_val, y_train, y_val = train_test_split(x_train, y_train, test_size=0.1, random_state=42)\n",
        "\n",
        "# Resize images to (224, 224)\n",
        "def preprocess(image, label):\n",
        "    image = tf.image.resize(image, (224, 224))\n",
        "    image = tf.keras.applications.vgg16.preprocess_input(image)\n",
        "    return image, label\n",
        "\n",
        "batch_size = 32\n",
        "train_ds = tf.data.Dataset.from_tensor_slices((x_train, y_train)).map(preprocess).shuffle(1000).batch(batch_size)\n",
        "val_ds = tf.data.Dataset.from_tensor_slices((x_val, y_val)).map(preprocess).batch(batch_size)\n",
        "test_ds = tf.data.Dataset.from_tensor_slices((x_test, y_test)).map(preprocess).batch(batch_size)"
      ]
    },
    {
      "cell_type": "markdown",
      "metadata": {
        "id": "ErRFo0Hop72L"
      },
      "source": [
        "# Build Model"
      ]
    },
    {
      "cell_type": "code",
      "execution_count": 7,
      "metadata": {
        "id": "Wj9DTbIoqtL_"
      },
      "outputs": [],
      "source": [
        "def train(optimizer, epochs):\n",
        "\n",
        "    base_model = VGG16(weights='imagenet', include_top=False, input_shape=(224, 224, 3))\n",
        "    base_model.trainable = False\n",
        "\n",
        "    x = base_model.output\n",
        "    x = GlobalAveragePooling2D()(x)\n",
        "    x = Dropout(0.5)(x)\n",
        "    predictions = Dense(10, activation='softmax')(x)\n",
        "\n",
        "    model = Model(inputs=base_model.input, outputs=predictions)\n",
        "    model.compile(optimizer=optimizer, loss='categorical_crossentropy', metrics=['accuracy'])\n",
        "\n",
        "    start_time = time.time()\n",
        "    history = model.fit(train_ds, epochs=epochs, validation_data=val_ds, verbose=1)\n",
        "    end_time = time.time()\n",
        "    training_time = end_time - start_time\n",
        "\n",
        "    test_loss, test_accuracy = model.evaluate(test_ds, verbose=0)\n",
        "    print(f\"Test accuracy: {test_accuracy}\")\n",
        "\n",
        "    return history, model, training_time, test_accuracy"
      ]
    },
    {
      "cell_type": "markdown",
      "metadata": {
        "id": "HKz7joZVp-tC"
      },
      "source": [
        "# Build Optimizer"
      ]
    },
    {
      "cell_type": "code",
      "execution_count": 8,
      "metadata": {
        "id": "aPbRq-hEpFbQ"
      },
      "outputs": [],
      "source": [
        "class Lion(Optimizer):\n",
        "    def __init__(\n",
        "        self, learning_rate=0.001, beta_1=0.9, beta_2=0.99, weight_decay=1e-4, name=\"lion\", **kwargs):\n",
        "        super().__init__(learning_rate=learning_rate, name=name, **kwargs)\n",
        "        self.beta_1 = beta_1\n",
        "        self.beta_2 = beta_2\n",
        "        self.weight_decay = weight_decay\n",
        "\n",
        "    def build(self, var_list):\n",
        "        if self.built:\n",
        "            return\n",
        "        super().build(var_list)\n",
        "\n",
        "        self._momentums = []\n",
        "        for var in var_list:\n",
        "            self._momentums.append(\n",
        "                self.add_variable_from_reference(\n",
        "                    reference_variable=var, name=\"momentum\"\n",
        "                )\n",
        "            )\n",
        "\n",
        "    def update_step(self, gradient, variable, learning_rate):\n",
        "\n",
        "        lr = tf.cast(learning_rate, variable.dtype)\n",
        "        gradient = tf.cast(gradient, variable.dtype)\n",
        "\n",
        "        beta_1 = tf.cast(self.beta_1, variable.dtype)\n",
        "        beta_2 = tf.cast(self.beta_2, variable.dtype)\n",
        "        weight_decay = tf.cast(self.weight_decay, variable.dtype)\n",
        "\n",
        "        m = self._momentums[self._get_variable_index(variable)]\n",
        "\n",
        "        update = tf.sign(beta_1 * m + (1.0 - beta_1) * gradient)\n",
        "\n",
        "        new_m = beta_2 * m + (1.0 - beta_2) * gradient\n",
        "        self.assign(m, new_m)\n",
        "\n",
        "        final_update = lr * (weight_decay * variable + update)\n",
        "        self.assign_sub(variable, final_update)\n",
        "\n",
        "    def get_config(self):\n",
        "        config = super().get_config()\n",
        "        config.update(\n",
        "            {\n",
        "                \"beta_1\": self.beta_1,\n",
        "                \"beta_2\": self.beta_2,\n",
        "                \"learning_rate\": self._serialize_hyperparameter(\"learning_rate\"),\n",
        "                \"weight_decay\": self.weight_decay,\n",
        "            }\n",
        "        )\n",
        "        return config"
      ]
    },
    {
      "cell_type": "markdown",
      "metadata": {
        "id": "ZSpod47CqD1A"
      },
      "source": [
        "# Train Model"
      ]
    },
    {
      "cell_type": "code",
      "execution_count": 9,
      "metadata": {
        "colab": {
          "base_uri": "https://localhost:8080/"
        },
        "id": "K2IX3NAHpd54",
        "outputId": "02198579-32fc-47ec-d116-53be6f5c506d"
      },
      "outputs": [
        {
          "name": "stdout",
          "output_type": "stream",
          "text": [
            "Training with AdamW optimizer...\n",
            "Downloading data from https://storage.googleapis.com/tensorflow/keras-applications/vgg16/vgg16_weights_tf_dim_ordering_tf_kernels_notop.h5\n",
            "\u001b[1m58889256/58889256\u001b[0m \u001b[32m━━━━━━━━━━━━━━━━━━━━\u001b[0m\u001b[37m\u001b[0m \u001b[1m4s\u001b[0m 0us/step\n",
            "Epoch 1/20\n",
            "\u001b[1m1407/1407\u001b[0m \u001b[32m━━━━━━━━━━━━━━━━━━━━\u001b[0m\u001b[37m\u001b[0m \u001b[1m280s\u001b[0m 188ms/step - accuracy: 0.5012 - loss: 2.4273 - val_accuracy: 0.8178 - val_loss: 0.5276\n",
            "Epoch 2/20\n",
            "\u001b[1m1407/1407\u001b[0m \u001b[32m━━━━━━━━━━━━━━━━━━━━\u001b[0m\u001b[37m\u001b[0m \u001b[1m306s\u001b[0m 185ms/step - accuracy: 0.7351 - loss: 0.7965 - val_accuracy: 0.8160 - val_loss: 0.5231\n",
            "Epoch 3/20\n",
            "\u001b[1m1407/1407\u001b[0m \u001b[32m━━━━━━━━━━━━━━━━━━━━\u001b[0m\u001b[37m\u001b[0m \u001b[1m338s\u001b[0m 197ms/step - accuracy: 0.7362 - loss: 0.7823 - val_accuracy: 0.8250 - val_loss: 0.5069\n",
            "Epoch 4/20\n",
            "\u001b[1m1407/1407\u001b[0m \u001b[32m━━━━━━━━━━━━━━━━━━━━\u001b[0m\u001b[37m\u001b[0m \u001b[1m322s\u001b[0m 196ms/step - accuracy: 0.7370 - loss: 0.7886 - val_accuracy: 0.8202 - val_loss: 0.5064\n",
            "Epoch 5/20\n",
            "\u001b[1m1407/1407\u001b[0m \u001b[32m━━━━━━━━━━━━━━━━━━━━\u001b[0m\u001b[37m\u001b[0m \u001b[1m306s\u001b[0m 185ms/step - accuracy: 0.7428 - loss: 0.7650 - val_accuracy: 0.8176 - val_loss: 0.5075\n",
            "Epoch 6/20\n",
            "\u001b[1m1407/1407\u001b[0m \u001b[32m━━━━━━━━━━━━━━━━━━━━\u001b[0m\u001b[37m\u001b[0m \u001b[1m277s\u001b[0m 196ms/step - accuracy: 0.7384 - loss: 0.7860 - val_accuracy: 0.8196 - val_loss: 0.5152\n",
            "Epoch 7/20\n",
            "\u001b[1m1407/1407\u001b[0m \u001b[32m━━━━━━━━━━━━━━━━━━━━\u001b[0m\u001b[37m\u001b[0m \u001b[1m278s\u001b[0m 196ms/step - accuracy: 0.7417 - loss: 0.7741 - val_accuracy: 0.8232 - val_loss: 0.5002\n",
            "Epoch 8/20\n",
            "\u001b[1m1407/1407\u001b[0m \u001b[32m━━━━━━━━━━━━━━━━━━━━\u001b[0m\u001b[37m\u001b[0m \u001b[1m323s\u001b[0m 196ms/step - accuracy: 0.7466 - loss: 0.7716 - val_accuracy: 0.8152 - val_loss: 0.5184\n",
            "Epoch 9/20\n",
            "\u001b[1m1407/1407\u001b[0m \u001b[32m━━━━━━━━━━━━━━━━━━━━\u001b[0m\u001b[37m\u001b[0m \u001b[1m306s\u001b[0m 185ms/step - accuracy: 0.7415 - loss: 0.7781 - val_accuracy: 0.8150 - val_loss: 0.5231\n",
            "Epoch 10/20\n",
            "\u001b[1m1407/1407\u001b[0m \u001b[32m━━━━━━━━━━━━━━━━━━━━\u001b[0m\u001b[37m\u001b[0m \u001b[1m337s\u001b[0m 196ms/step - accuracy: 0.7423 - loss: 0.7729 - val_accuracy: 0.8248 - val_loss: 0.4893\n",
            "Epoch 11/20\n",
            "\u001b[1m1407/1407\u001b[0m \u001b[32m━━━━━━━━━━━━━━━━━━━━\u001b[0m\u001b[37m\u001b[0m \u001b[1m322s\u001b[0m 196ms/step - accuracy: 0.7383 - loss: 0.7724 - val_accuracy: 0.8236 - val_loss: 0.4937\n",
            "Epoch 12/20\n",
            "\u001b[1m1407/1407\u001b[0m \u001b[32m━━━━━━━━━━━━━━━━━━━━\u001b[0m\u001b[37m\u001b[0m \u001b[1m278s\u001b[0m 196ms/step - accuracy: 0.7417 - loss: 0.7735 - val_accuracy: 0.8238 - val_loss: 0.5108\n",
            "Epoch 13/20\n",
            "\u001b[1m1407/1407\u001b[0m \u001b[32m━━━━━━━━━━━━━━━━━━━━\u001b[0m\u001b[37m\u001b[0m \u001b[1m278s\u001b[0m 196ms/step - accuracy: 0.7383 - loss: 0.7793 - val_accuracy: 0.8216 - val_loss: 0.5094\n",
            "Epoch 14/20\n",
            "\u001b[1m1407/1407\u001b[0m \u001b[32m━━━━━━━━━━━━━━━━━━━━\u001b[0m\u001b[37m\u001b[0m \u001b[1m278s\u001b[0m 196ms/step - accuracy: 0.7361 - loss: 0.7822 - val_accuracy: 0.8046 - val_loss: 0.5561\n",
            "Epoch 15/20\n",
            "\u001b[1m1407/1407\u001b[0m \u001b[32m━━━━━━━━━━━━━━━━━━━━\u001b[0m\u001b[37m\u001b[0m \u001b[1m263s\u001b[0m 185ms/step - accuracy: 0.7441 - loss: 0.7677 - val_accuracy: 0.8120 - val_loss: 0.5307\n",
            "Epoch 16/20\n",
            "\u001b[1m1407/1407\u001b[0m \u001b[32m━━━━━━━━━━━━━━━━━━━━\u001b[0m\u001b[37m\u001b[0m \u001b[1m321s\u001b[0m 185ms/step - accuracy: 0.7435 - loss: 0.7623 - val_accuracy: 0.8132 - val_loss: 0.5261\n",
            "Epoch 17/20\n",
            "\u001b[1m1407/1407\u001b[0m \u001b[32m━━━━━━━━━━━━━━━━━━━━\u001b[0m\u001b[37m\u001b[0m \u001b[1m338s\u001b[0m 196ms/step - accuracy: 0.7465 - loss: 0.7695 - val_accuracy: 0.8228 - val_loss: 0.4987\n",
            "Epoch 18/20\n",
            "\u001b[1m1407/1407\u001b[0m \u001b[32m━━━━━━━━━━━━━━━━━━━━\u001b[0m\u001b[37m\u001b[0m \u001b[1m305s\u001b[0m 185ms/step - accuracy: 0.7467 - loss: 0.7623 - val_accuracy: 0.8284 - val_loss: 0.4898\n",
            "Epoch 19/20\n",
            "\u001b[1m1407/1407\u001b[0m \u001b[32m━━━━━━━━━━━━━━━━━━━━\u001b[0m\u001b[37m\u001b[0m \u001b[1m262s\u001b[0m 185ms/step - accuracy: 0.7464 - loss: 0.7737 - val_accuracy: 0.8188 - val_loss: 0.5218\n",
            "Epoch 20/20\n",
            "\u001b[1m1407/1407\u001b[0m \u001b[32m━━━━━━━━━━━━━━━━━━━━\u001b[0m\u001b[37m\u001b[0m \u001b[1m337s\u001b[0m 196ms/step - accuracy: 0.7440 - loss: 0.7651 - val_accuracy: 0.8148 - val_loss: 0.5138\n",
            "Test accuracy: 0.8155999779701233\n"
          ]
        },
        {
          "name": "stderr",
          "output_type": "stream",
          "text": [
            "WARNING:absl:You are saving your model as an HDF5 file via `model.save()` or `keras.saving.save_model(model)`. This file format is considered legacy. We recommend using instead the native Keras format, e.g. `model.save('my_model.keras')` or `keras.saving.save_model(model, 'my_model.keras')`. \n"
          ]
        }
      ],
      "source": [
        "optimizers = {\n",
        "#    'SGD': SGD(learning_rate=0.001, momentum=0.9),\n",
        "#    'SGD_Nesterov': SGD(learning_rate=0.001, momentum=0.9, nesterov=True),\n",
        "#    'Adam': Adam(learning_rate=0.001),\n",
        "#    'Adam_Amsgrad': Adam(learning_rate=0.001, amsgrad=True),\n",
        "    'AdamW': AdamW(learning_rate=0.001, weight_decay=1e-4),\n",
        "#    'Nadam': Nadam(learning_rate=0.001),\n",
        "#    'Lion': Lion(learning_rate=1e-4)\n",
        "}\n",
        "\n",
        "histories = {}\n",
        "training_times = {}\n",
        "models = {}\n",
        "test_accuracies = {}\n",
        "\n",
        "for name, optimizer in optimizers.items():\n",
        "    print(f\"Training with {name} optimizer...\")\n",
        "    \n",
        "    histories[name], models[name], training_times[name], test_accuracies[name] = train(optimizer, 20)\n",
        "\n",
        "    save_all_results(name, histories[name], models[name], training_times[name], test_accuracies[name])"
      ]
    }
  ],
  "metadata": {
    "accelerator": "GPU",
    "colab": {
      "gpuClass": "premium",
      "gpuType": "T4",
      "provenance": []
    },
    "kernelspec": {
      "display_name": "Python 3",
      "language": "python",
      "name": "python3"
    },
    "language_info": {
      "name": "python",
      "version": "3.11.1 (v3.11.1:a7a450f84a, Dec  6 2022, 15:24:06) [Clang 13.0.0 (clang-1300.0.29.30)]"
    },
    "vscode": {
      "interpreter": {
        "hash": "aee8b7b246df8f9039afb4144a1f6fd8d2ca17a180786b69acc140d282b71a49"
      }
    }
  },
  "nbformat": 4,
  "nbformat_minor": 0
}
