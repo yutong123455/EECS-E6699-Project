{
  "cells": [
    {
      "cell_type": "markdown",
      "metadata": {
        "id": "yyAQVz2cprtP"
      },
      "source": [
        "# Initialization"
      ]
    },
    {
      "cell_type": "code",
      "execution_count": null,
      "metadata": {
        "id": "5lhJuj6a-Yft"
      },
      "outputs": [],
      "source": [
        "import tensorflow as tf\n",
        "from tensorflow.keras.applications import VGG16\n",
        "from tensorflow.keras import layers\n",
        "from tensorflow.keras.layers import GlobalAveragePooling2D, Dropout, Dense\n",
        "from tensorflow.keras.models import Model\n",
        "from tensorflow.keras.datasets import cifar10\n",
        "from tensorflow.keras.utils import to_categorical\n",
        "from sklearn.model_selection import train_test_split\n",
        "from tensorflow.keras.optimizers import SGD, Adam, Nadam, AdamW\n",
        "from tensorflow.keras.optimizers import Optimizer\n",
        "from tensorflow.keras.models import save_model\n",
        "import time\n",
        "import matplotlib.pyplot as plt"
      ]
    },
    {
      "cell_type": "code",
      "execution_count": null,
      "metadata": {
        "colab": {
          "base_uri": "https://localhost:8080/"
        },
        "id": "o41m6R8-pVd9",
        "outputId": "5cfbf387-bb4f-4718-996d-66308c6f189d"
      },
      "outputs": [
        {
          "name": "stdout",
          "output_type": "stream",
          "text": [
            "Sat May 10 22:46:05 2025       \n",
            "+-----------------------------------------------------------------------------------------+\n",
            "| NVIDIA-SMI 550.54.15              Driver Version: 550.54.15      CUDA Version: 12.4     |\n",
            "|-----------------------------------------+------------------------+----------------------+\n",
            "| GPU  Name                 Persistence-M | Bus-Id          Disp.A | Volatile Uncorr. ECC |\n",
            "| Fan  Temp   Perf          Pwr:Usage/Cap |           Memory-Usage | GPU-Util  Compute M. |\n",
            "|                                         |                        |               MIG M. |\n",
            "|=========================================+========================+======================|\n",
            "|   0  Tesla T4                       Off |   00000000:00:04.0 Off |                    0 |\n",
            "| N/A   49C    P8             11W /   70W |       0MiB /  15360MiB |      0%      Default |\n",
            "|                                         |                        |                  N/A |\n",
            "+-----------------------------------------+------------------------+----------------------+\n",
            "                                                                                         \n",
            "+-----------------------------------------------------------------------------------------+\n",
            "| Processes:                                                                              |\n",
            "|  GPU   GI   CI        PID   Type   Process name                              GPU Memory |\n",
            "|        ID   ID                                                               Usage      |\n",
            "|=========================================================================================|\n",
            "|  No running processes found                                                             |\n",
            "+-----------------------------------------------------------------------------------------+\n"
          ]
        }
      ],
      "source": [
        "!nvidia-smi"
      ]
    },
    {
      "cell_type": "code",
      "execution_count": null,
      "metadata": {
        "colab": {
          "base_uri": "https://localhost:8080/"
        },
        "id": "TKQNY2kEjFNc",
        "outputId": "5dad6305-afb2-4581-c5b6-69e5e8cbeaf1"
      },
      "outputs": [
        {
          "name": "stdout",
          "output_type": "stream",
          "text": [
            "Mounted at /content/drive\n"
          ]
        }
      ],
      "source": [
        "from google.colab import drive\n",
        "drive.mount('/content/drive')"
      ]
    },
    {
      "cell_type": "code",
      "execution_count": null,
      "metadata": {
        "id": "t_5l2lfxjLmj"
      },
      "outputs": [],
      "source": [
        "import os\n",
        "import json\n",
        "import pickle\n",
        "\n",
        "def save_all_results(name, history, model, training_time, test_accuracy, save_dir='/content/drive/MyDrive/vgg_results'):\n",
        "    os.makedirs(save_dir, exist_ok=True)\n",
        "\n",
        "    with open(os.path.join(save_dir, f'{name}_history.json'), 'w') as f:\n",
        "        json.dump(history.history, f)\n",
        "\n",
        "    model.save(os.path.join(save_dir, f'{name}_model.h5'))\n",
        "\n",
        "    summary = {\n",
        "        'training_time': training_time,\n",
        "        'test_accuracy': test_accuracy\n",
        "    }\n",
        "    with open(os.path.join(save_dir, f'{name}_summary.json'), 'w') as f:\n",
        "        json.dump(summary, f)"
      ]
    },
    {
      "cell_type": "markdown",
      "metadata": {
        "id": "D2OGbAc0p3Gg"
      },
      "source": [
        "# Data Preprocessing"
      ]
    },
    {
      "cell_type": "code",
      "execution_count": null,
      "metadata": {
        "colab": {
          "base_uri": "https://localhost:8080/"
        },
        "id": "-Qgl5O26pWxY",
        "outputId": "548e946f-5333-4e89-f302-b24315bb1dc6"
      },
      "outputs": [
        {
          "name": "stdout",
          "output_type": "stream",
          "text": [
            "Downloading data from https://www.cs.toronto.edu/~kriz/cifar-10-python.tar.gz\n",
            "\u001b[1m170498071/170498071\u001b[0m \u001b[32m━━━━━━━━━━━━━━━━━━━━\u001b[0m\u001b[37m\u001b[0m \u001b[1m51s\u001b[0m 0us/step\n"
          ]
        }
      ],
      "source": [
        "(x_train, y_train), (x_test, y_test) = cifar10.load_data()\n",
        "\n",
        "y_train, y_test = to_categorical(y_train, 10), to_categorical(y_test, 10)  # One-hot encoding\n",
        "\n",
        "# Split training data into train and validation sets\n",
        "x_train, x_val, y_train, y_val = train_test_split(x_train, y_train, test_size=0.1, random_state=42)\n",
        "\n",
        "# Resize images to (224, 224)\n",
        "def preprocess(image, label):\n",
        "    image = tf.image.resize(image, (224, 224))\n",
        "    image = tf.keras.applications.vgg16.preprocess_input(image)\n",
        "    return image, label\n",
        "\n",
        "batch_size = 32\n",
        "train_ds = tf.data.Dataset.from_tensor_slices((x_train, y_train)).map(preprocess).shuffle(1000).batch(batch_size)\n",
        "val_ds = tf.data.Dataset.from_tensor_slices((x_val, y_val)).map(preprocess).batch(batch_size)\n",
        "test_ds = tf.data.Dataset.from_tensor_slices((x_test, y_test)).map(preprocess).batch(batch_size)"
      ]
    },
    {
      "cell_type": "markdown",
      "metadata": {
        "id": "ErRFo0Hop72L"
      },
      "source": [
        "# Build Model"
      ]
    },
    {
      "cell_type": "code",
      "execution_count": null,
      "metadata": {
        "id": "Wj9DTbIoqtL_"
      },
      "outputs": [],
      "source": [
        "def train(optimizer, epochs):\n",
        "\n",
        "    base_model = VGG16(weights='imagenet', include_top=False, input_shape=(224, 224, 3))\n",
        "    base_model.trainable = False\n",
        "\n",
        "    x = base_model.output\n",
        "    x = GlobalAveragePooling2D()(x)\n",
        "    x = Dropout(0.5)(x)\n",
        "    predictions = Dense(10, activation='softmax')(x)\n",
        "\n",
        "    model = Model(inputs=base_model.input, outputs=predictions)\n",
        "    model.compile(optimizer=optimizer, loss='categorical_crossentropy', metrics=['accuracy'])\n",
        "\n",
        "    start_time = time.time()\n",
        "    history = model.fit(train_ds, epochs=epochs, validation_data=val_ds, verbose=1)\n",
        "    end_time = time.time()\n",
        "    training_time = end_time - start_time\n",
        "\n",
        "    test_loss, test_accuracy = model.evaluate(test_ds, verbose=0)\n",
        "    print(f\"Test accuracy: {test_accuracy}\")\n",
        "\n",
        "    return history, model, training_time, test_accuracy"
      ]
    },
    {
      "cell_type": "markdown",
      "metadata": {
        "id": "HKz7joZVp-tC"
      },
      "source": [
        "# Build Optimizer"
      ]
    },
    {
      "cell_type": "code",
      "execution_count": null,
      "metadata": {
        "id": "aPbRq-hEpFbQ"
      },
      "outputs": [],
      "source": [
        "class Lion(Optimizer):\n",
        "    def __init__(\n",
        "        self, learning_rate=0.001, beta_1=0.9, beta_2=0.99, weight_decay=1e-4, name=\"lion\", **kwargs):\n",
        "        super().__init__(learning_rate=learning_rate, name=name, **kwargs)\n",
        "        self.beta_1 = beta_1\n",
        "        self.beta_2 = beta_2\n",
        "        self.weight_decay = weight_decay\n",
        "\n",
        "    def build(self, var_list):\n",
        "        if self.built:\n",
        "            return\n",
        "        super().build(var_list)\n",
        "\n",
        "        self._momentums = []\n",
        "        for var in var_list:\n",
        "            self._momentums.append(\n",
        "                self.add_variable_from_reference(\n",
        "                    reference_variable=var, name=\"momentum\"\n",
        "                )\n",
        "            )\n",
        "\n",
        "    def update_step(self, gradient, variable, learning_rate):\n",
        "\n",
        "        lr = tf.cast(learning_rate, variable.dtype)\n",
        "        gradient = tf.cast(gradient, variable.dtype)\n",
        "\n",
        "        beta_1 = tf.cast(self.beta_1, variable.dtype)\n",
        "        beta_2 = tf.cast(self.beta_2, variable.dtype)\n",
        "        weight_decay = tf.cast(self.weight_decay, variable.dtype)\n",
        "\n",
        "        m = self._momentums[self._get_variable_index(variable)]\n",
        "\n",
        "        update = tf.sign(beta_1 * m + (1.0 - beta_1) * gradient)\n",
        "\n",
        "        new_m = beta_2 * m + (1.0 - beta_2) * gradient\n",
        "        self.assign(m, new_m)\n",
        "\n",
        "        final_update = lr * (weight_decay * variable + update)\n",
        "        self.assign_sub(variable, final_update)\n"
      ]
    },
    {
      "cell_type": "markdown",
      "metadata": {
        "id": "ZSpod47CqD1A"
      },
      "source": [
        "# Train Model"
      ]
    },
    {
      "cell_type": "code",
      "execution_count": null,
      "metadata": {
        "colab": {
          "base_uri": "https://localhost:8080/"
        },
        "id": "K2IX3NAHpd54",
        "outputId": "17d9c28d-8c97-459d-d223-445acb95a543"
      },
      "outputs": [
        {
          "name": "stdout",
          "output_type": "stream",
          "text": [
            "Training with SGD optimizer...\n",
            "Downloading data from https://storage.googleapis.com/tensorflow/keras-applications/vgg16/vgg16_weights_tf_dim_ordering_tf_kernels_notop.h5\n",
            "\u001b[1m58889256/58889256\u001b[0m \u001b[32m━━━━━━━━━━━━━━━━━━━━\u001b[0m\u001b[37m\u001b[0m \u001b[1m4s\u001b[0m 0us/step\n",
            "Epoch 1/20\n",
            "\u001b[1m1407/1407\u001b[0m \u001b[32m━━━━━━━━━━━━━━━━━━━━\u001b[0m\u001b[37m\u001b[0m \u001b[1m274s\u001b[0m 184ms/step - accuracy: 0.5511 - loss: 2.0243 - val_accuracy: 0.7760 - val_loss: 0.6659\n",
            "Epoch 2/20\n",
            "\u001b[1m1407/1407\u001b[0m \u001b[32m━━━━━━━━━━━━━━━━━━━━\u001b[0m\u001b[37m\u001b[0m \u001b[1m322s\u001b[0m 192ms/step - accuracy: 0.7021 - loss: 0.9723 - val_accuracy: 0.7996 - val_loss: 0.5924\n",
            "Epoch 3/20\n",
            "\u001b[1m1407/1407\u001b[0m \u001b[32m━━━━━━━━━━━━━━━━━━━━\u001b[0m\u001b[37m\u001b[0m \u001b[1m323s\u001b[0m 192ms/step - accuracy: 0.7138 - loss: 0.9392 - val_accuracy: 0.8138 - val_loss: 0.5202\n",
            "Epoch 4/20\n",
            "\u001b[1m1407/1407\u001b[0m \u001b[32m━━━━━━━━━━━━━━━━━━━━\u001b[0m\u001b[37m\u001b[0m \u001b[1m321s\u001b[0m 192ms/step - accuracy: 0.7148 - loss: 0.9135 - val_accuracy: 0.8132 - val_loss: 0.5345\n",
            "Epoch 5/20\n",
            "\u001b[1m1407/1407\u001b[0m \u001b[32m━━━━━━━━━━━━━━━━━━━━\u001b[0m\u001b[37m\u001b[0m \u001b[1m322s\u001b[0m 192ms/step - accuracy: 0.7151 - loss: 0.9195 - val_accuracy: 0.8148 - val_loss: 0.5294\n",
            "Epoch 6/20\n",
            "\u001b[1m1407/1407\u001b[0m \u001b[32m━━━━━━━━━━━━━━━━━━━━\u001b[0m\u001b[37m\u001b[0m \u001b[1m322s\u001b[0m 192ms/step - accuracy: 0.7168 - loss: 0.9076 - val_accuracy: 0.8026 - val_loss: 0.5631\n",
            "Epoch 7/20\n",
            "\u001b[1m1407/1407\u001b[0m \u001b[32m━━━━━━━━━━━━━━━━━━━━\u001b[0m\u001b[37m\u001b[0m \u001b[1m273s\u001b[0m 192ms/step - accuracy: 0.7226 - loss: 0.8921 - val_accuracy: 0.7974 - val_loss: 0.5628\n",
            "Epoch 8/20\n",
            "\u001b[1m1407/1407\u001b[0m \u001b[32m━━━━━━━━━━━━━━━━━━━━\u001b[0m\u001b[37m\u001b[0m \u001b[1m321s\u001b[0m 192ms/step - accuracy: 0.7217 - loss: 0.8755 - val_accuracy: 0.8206 - val_loss: 0.4999\n",
            "Epoch 9/20\n",
            "\u001b[1m1407/1407\u001b[0m \u001b[32m━━━━━━━━━━━━━━━━━━━━\u001b[0m\u001b[37m\u001b[0m \u001b[1m272s\u001b[0m 192ms/step - accuracy: 0.7196 - loss: 0.9004 - val_accuracy: 0.8094 - val_loss: 0.5434\n",
            "Epoch 10/20\n",
            "\u001b[1m1407/1407\u001b[0m \u001b[32m━━━━━━━━━━━━━━━━━━━━\u001b[0m\u001b[37m\u001b[0m \u001b[1m322s\u001b[0m 192ms/step - accuracy: 0.7186 - loss: 0.9148 - val_accuracy: 0.8046 - val_loss: 0.5526\n",
            "Epoch 11/20\n",
            "\u001b[1m1407/1407\u001b[0m \u001b[32m━━━━━━━━━━━━━━━━━━━━\u001b[0m\u001b[37m\u001b[0m \u001b[1m323s\u001b[0m 192ms/step - accuracy: 0.7203 - loss: 0.9092 - val_accuracy: 0.8082 - val_loss: 0.5357\n",
            "Epoch 12/20\n",
            "\u001b[1m1407/1407\u001b[0m \u001b[32m━━━━━━━━━━━━━━━━━━━━\u001b[0m\u001b[37m\u001b[0m \u001b[1m274s\u001b[0m 192ms/step - accuracy: 0.7204 - loss: 0.9032 - val_accuracy: 0.7908 - val_loss: 0.6062\n",
            "Epoch 13/20\n",
            "\u001b[1m1407/1407\u001b[0m \u001b[32m━━━━━━━━━━━━━━━━━━━━\u001b[0m\u001b[37m\u001b[0m \u001b[1m321s\u001b[0m 192ms/step - accuracy: 0.7209 - loss: 0.9074 - val_accuracy: 0.8006 - val_loss: 0.5766\n",
            "Epoch 14/20\n",
            "\u001b[1m1407/1407\u001b[0m \u001b[32m━━━━━━━━━━━━━━━━━━━━\u001b[0m\u001b[37m\u001b[0m \u001b[1m322s\u001b[0m 192ms/step - accuracy: 0.7215 - loss: 0.8935 - val_accuracy: 0.8024 - val_loss: 0.5718\n",
            "Epoch 15/20\n",
            "\u001b[1m1407/1407\u001b[0m \u001b[32m━━━━━━━━━━━━━━━━━━━━\u001b[0m\u001b[37m\u001b[0m \u001b[1m273s\u001b[0m 193ms/step - accuracy: 0.7191 - loss: 0.9034 - val_accuracy: 0.7494 - val_loss: 0.6932\n",
            "Epoch 16/20\n",
            "\u001b[1m1407/1407\u001b[0m \u001b[32m━━━━━━━━━━━━━━━━━━━━\u001b[0m\u001b[37m\u001b[0m \u001b[1m322s\u001b[0m 192ms/step - accuracy: 0.7214 - loss: 0.9053 - val_accuracy: 0.7920 - val_loss: 0.5993\n",
            "Epoch 17/20\n",
            "\u001b[1m1407/1407\u001b[0m \u001b[32m━━━━━━━━━━━━━━━━━━━━\u001b[0m\u001b[37m\u001b[0m \u001b[1m306s\u001b[0m 181ms/step - accuracy: 0.7236 - loss: 0.8928 - val_accuracy: 0.8236 - val_loss: 0.4972\n",
            "Epoch 18/20\n",
            "\u001b[1m1407/1407\u001b[0m \u001b[32m━━━━━━━━━━━━━━━━━━━━\u001b[0m\u001b[37m\u001b[0m \u001b[1m256s\u001b[0m 181ms/step - accuracy: 0.7229 - loss: 0.8864 - val_accuracy: 0.7954 - val_loss: 0.5968\n",
            "Epoch 19/20\n",
            "\u001b[1m1407/1407\u001b[0m \u001b[32m━━━━━━━━━━━━━━━━━━━━\u001b[0m\u001b[37m\u001b[0m \u001b[1m272s\u001b[0m 192ms/step - accuracy: 0.7220 - loss: 0.8997 - val_accuracy: 0.8058 - val_loss: 0.5476\n",
            "Epoch 20/20\n",
            "\u001b[1m1407/1407\u001b[0m \u001b[32m━━━━━━━━━━━━━━━━━━━━\u001b[0m\u001b[37m\u001b[0m \u001b[1m272s\u001b[0m 192ms/step - accuracy: 0.7181 - loss: 0.9055 - val_accuracy: 0.7786 - val_loss: 0.6404\n",
            "Test accuracy: 0.7824000120162964\n"
          ]
        },
        {
          "name": "stderr",
          "output_type": "stream",
          "text": [
            "WARNING:absl:You are saving your model as an HDF5 file via `model.save()` or `keras.saving.save_model(model)`. This file format is considered legacy. We recommend using instead the native Keras format, e.g. `model.save('my_model.keras')` or `keras.saving.save_model(model, 'my_model.keras')`. \n"
          ]
        },
        {
          "name": "stdout",
          "output_type": "stream",
          "text": [
            "Training with SGD_Nesterov optimizer...\n",
            "Epoch 1/20\n",
            "\u001b[1m1407/1407\u001b[0m \u001b[32m━━━━━━━━━━━━━━━━━━━━\u001b[0m\u001b[37m\u001b[0m \u001b[1m278s\u001b[0m 193ms/step - accuracy: 0.5552 - loss: 1.9209 - val_accuracy: 0.7724 - val_loss: 0.6449\n",
            "Epoch 2/20\n",
            "\u001b[1m1407/1407\u001b[0m \u001b[32m━━━━━━━━━━━━━━━━━━━━\u001b[0m\u001b[37m\u001b[0m \u001b[1m273s\u001b[0m 192ms/step - accuracy: 0.7119 - loss: 0.9243 - val_accuracy: 0.7912 - val_loss: 0.5823\n",
            "Epoch 3/20\n",
            "\u001b[1m1407/1407\u001b[0m \u001b[32m━━━━━━━━━━━━━━━━━━━━\u001b[0m\u001b[37m\u001b[0m \u001b[1m257s\u001b[0m 181ms/step - accuracy: 0.7147 - loss: 0.8991 - val_accuracy: 0.7824 - val_loss: 0.6231\n",
            "Epoch 4/20\n",
            "\u001b[1m1407/1407\u001b[0m \u001b[32m━━━━━━━━━━━━━━━━━━━━\u001b[0m\u001b[37m\u001b[0m \u001b[1m257s\u001b[0m 181ms/step - accuracy: 0.7253 - loss: 0.8654 - val_accuracy: 0.8116 - val_loss: 0.5173\n",
            "Epoch 5/20\n",
            "\u001b[1m1407/1407\u001b[0m \u001b[32m━━━━━━━━━━━━━━━━━━━━\u001b[0m\u001b[37m\u001b[0m \u001b[1m272s\u001b[0m 192ms/step - accuracy: 0.7291 - loss: 0.8529 - val_accuracy: 0.7770 - val_loss: 0.6360\n",
            "Epoch 6/20\n",
            "\u001b[1m1407/1407\u001b[0m \u001b[32m━━━━━━━━━━━━━━━━━━━━\u001b[0m\u001b[37m\u001b[0m \u001b[1m272s\u001b[0m 192ms/step - accuracy: 0.7243 - loss: 0.8772 - val_accuracy: 0.8152 - val_loss: 0.5284\n",
            "Epoch 7/20\n",
            "\u001b[1m1407/1407\u001b[0m \u001b[32m━━━━━━━━━━━━━━━━━━━━\u001b[0m\u001b[37m\u001b[0m \u001b[1m273s\u001b[0m 192ms/step - accuracy: 0.7190 - loss: 0.8766 - val_accuracy: 0.8124 - val_loss: 0.5450\n",
            "Epoch 8/20\n",
            "\u001b[1m1407/1407\u001b[0m \u001b[32m━━━━━━━━━━━━━━━━━━━━\u001b[0m\u001b[37m\u001b[0m \u001b[1m274s\u001b[0m 193ms/step - accuracy: 0.7199 - loss: 0.8734 - val_accuracy: 0.8060 - val_loss: 0.5408\n",
            "Epoch 9/20\n",
            "\u001b[1m1407/1407\u001b[0m \u001b[32m━━━━━━━━━━━━━━━━━━━━\u001b[0m\u001b[37m\u001b[0m \u001b[1m275s\u001b[0m 193ms/step - accuracy: 0.7264 - loss: 0.8573 - val_accuracy: 0.8202 - val_loss: 0.4960\n",
            "Epoch 10/20\n",
            "\u001b[1m1407/1407\u001b[0m \u001b[32m━━━━━━━━━━━━━━━━━━━━\u001b[0m\u001b[37m\u001b[0m \u001b[1m304s\u001b[0m 181ms/step - accuracy: 0.7268 - loss: 0.8586 - val_accuracy: 0.7958 - val_loss: 0.5709\n",
            "Epoch 11/20\n",
            "\u001b[1m1407/1407\u001b[0m \u001b[32m━━━━━━━━━━━━━━━━━━━━\u001b[0m\u001b[37m\u001b[0m \u001b[1m272s\u001b[0m 192ms/step - accuracy: 0.7256 - loss: 0.8579 - val_accuracy: 0.8070 - val_loss: 0.5447\n",
            "Epoch 12/20\n",
            "\u001b[1m1407/1407\u001b[0m \u001b[32m━━━━━━━━━━━━━━━━━━━━\u001b[0m\u001b[37m\u001b[0m \u001b[1m258s\u001b[0m 181ms/step - accuracy: 0.7265 - loss: 0.8603 - val_accuracy: 0.8088 - val_loss: 0.5454\n",
            "Epoch 13/20\n",
            "\u001b[1m1407/1407\u001b[0m \u001b[32m━━━━━━━━━━━━━━━━━━━━\u001b[0m\u001b[37m\u001b[0m \u001b[1m276s\u001b[0m 192ms/step - accuracy: 0.7222 - loss: 0.8719 - val_accuracy: 0.8052 - val_loss: 0.5657\n",
            "Epoch 14/20\n",
            "\u001b[1m1407/1407\u001b[0m \u001b[32m━━━━━━━━━━━━━━━━━━━━\u001b[0m\u001b[37m\u001b[0m \u001b[1m307s\u001b[0m 181ms/step - accuracy: 0.7275 - loss: 0.8645 - val_accuracy: 0.8216 - val_loss: 0.5094\n",
            "Epoch 15/20\n",
            "\u001b[1m1407/1407\u001b[0m \u001b[32m━━━━━━━━━━━━━━━━━━━━\u001b[0m\u001b[37m\u001b[0m \u001b[1m272s\u001b[0m 192ms/step - accuracy: 0.7285 - loss: 0.8561 - val_accuracy: 0.8154 - val_loss: 0.5345\n",
            "Epoch 16/20\n",
            "\u001b[1m1407/1407\u001b[0m \u001b[32m━━━━━━━━━━━━━━━━━━━━\u001b[0m\u001b[37m\u001b[0m \u001b[1m257s\u001b[0m 181ms/step - accuracy: 0.7234 - loss: 0.8702 - val_accuracy: 0.7914 - val_loss: 0.5853\n",
            "Epoch 17/20\n",
            "\u001b[1m1407/1407\u001b[0m \u001b[32m━━━━━━━━━━━━━━━━━━━━\u001b[0m\u001b[37m\u001b[0m \u001b[1m256s\u001b[0m 181ms/step - accuracy: 0.7262 - loss: 0.8692 - val_accuracy: 0.7868 - val_loss: 0.5961\n",
            "Epoch 18/20\n",
            "\u001b[1m1407/1407\u001b[0m \u001b[32m━━━━━━━━━━━━━━━━━━━━\u001b[0m\u001b[37m\u001b[0m \u001b[1m278s\u001b[0m 192ms/step - accuracy: 0.7288 - loss: 0.8519 - val_accuracy: 0.8156 - val_loss: 0.5285\n",
            "Epoch 19/20\n",
            "\u001b[1m1407/1407\u001b[0m \u001b[32m━━━━━━━━━━━━━━━━━━━━\u001b[0m\u001b[37m\u001b[0m \u001b[1m323s\u001b[0m 193ms/step - accuracy: 0.7273 - loss: 0.8532 - val_accuracy: 0.8124 - val_loss: 0.5184\n",
            "Epoch 20/20\n",
            "\u001b[1m1407/1407\u001b[0m \u001b[32m━━━━━━━━━━━━━━━━━━━━\u001b[0m\u001b[37m\u001b[0m \u001b[1m320s\u001b[0m 192ms/step - accuracy: 0.7298 - loss: 0.8508 - val_accuracy: 0.8180 - val_loss: 0.5163\n"
          ]
        },
        {
          "name": "stderr",
          "output_type": "stream",
          "text": [
            "WARNING:absl:You are saving your model as an HDF5 file via `model.save()` or `keras.saving.save_model(model)`. This file format is considered legacy. We recommend using instead the native Keras format, e.g. `model.save('my_model.keras')` or `keras.saving.save_model(model, 'my_model.keras')`. \n"
          ]
        },
        {
          "name": "stdout",
          "output_type": "stream",
          "text": [
            "Test accuracy: 0.817799985408783\n"
          ]
        }
      ],
      "source": [
        "optimizers = {\n",
        "    'SGD': SGD(learning_rate=0.001, momentum=0.9),\n",
        "    'SGD_Nesterov': SGD(learning_rate=0.001, momentum=0.9, nesterov=True),\n",
        "#    'Adam': Adam(learning_rate=0.001),\n",
        "#    'Adam_Amsgrad': Adam(learning_rate=0.001, amsgrad=True),\n",
        "#    'AdamW': AdamW(learning_rate=0.001, weight_decay=1e-4),\n",
        "#    'Nadam': Nadam(learning_rate=0.001),\n",
        "#    'Lion': Lion(learning_rate=1e-4)\n",
        "}\n",
        "\n",
        "histories = {}\n",
        "training_times = {}\n",
        "models = {}\n",
        "test_accuracies = {}\n",
        "\n",
        "for name, optimizer in optimizers.items():\n",
        "    print(f\"Training with {name} optimizer...\")\n",
        "\n",
        "    histories[name], models[name], training_times[name], test_accuracies[name] = train(optimizer, 20)\n",
        "\n",
        "    save_all_results(name, histories[name], models[name], training_times[name], test_accuracies[name])"
      ]
    }
  ],
  "metadata": {
    "accelerator": "GPU",
    "colab": {
      "gpuClass": "premium",
      "gpuType": "T4",
      "provenance": []
    },
    "kernelspec": {
      "display_name": "Python 3",
      "name": "python3"
    },
    "language_info": {
      "name": "python"
    }
  },
  "nbformat": 4,
  "nbformat_minor": 0
}
