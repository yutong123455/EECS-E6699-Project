{
  "cells": [
    {
      "cell_type": "markdown",
      "metadata": {
        "id": "yyAQVz2cprtP"
      },
      "source": [
        "# Initialization"
      ]
    },
    {
      "cell_type": "code",
      "execution_count": null,
      "metadata": {
        "id": "5lhJuj6a-Yft"
      },
      "outputs": [],
      "source": [
        "import tensorflow as tf\n",
        "from tensorflow.keras.applications import VGG16\n",
        "from tensorflow.keras import layers\n",
        "from tensorflow.keras.layers import GlobalAveragePooling2D, Dropout, Dense\n",
        "from tensorflow.keras.models import Model\n",
        "from tensorflow.keras.datasets import cifar10\n",
        "from tensorflow.keras.utils import to_categorical\n",
        "from sklearn.model_selection import train_test_split\n",
        "from tensorflow.keras.optimizers import SGD, Adam, Nadam, AdamW\n",
        "from tensorflow.keras.optimizers import Optimizer\n",
        "from tensorflow.keras.models import save_model\n",
        "import time\n",
        "import matplotlib.pyplot as plt"
      ]
    },
    {
      "cell_type": "code",
      "execution_count": null,
      "metadata": {
        "colab": {
          "base_uri": "https://localhost:8080/"
        },
        "id": "o41m6R8-pVd9",
        "outputId": "d1c3cec6-0cb2-422d-8e7d-33286619a5d8"
      },
      "outputs": [
        {
          "name": "stdout",
          "output_type": "stream",
          "text": [
            "Sat May 10 18:01:57 2025       \n",
            "+-----------------------------------------------------------------------------------------+\n",
            "| NVIDIA-SMI 550.54.15              Driver Version: 550.54.15      CUDA Version: 12.4     |\n",
            "|-----------------------------------------+------------------------+----------------------+\n",
            "| GPU  Name                 Persistence-M | Bus-Id          Disp.A | Volatile Uncorr. ECC |\n",
            "| Fan  Temp   Perf          Pwr:Usage/Cap |           Memory-Usage | GPU-Util  Compute M. |\n",
            "|                                         |                        |               MIG M. |\n",
            "|=========================================+========================+======================|\n",
            "|   0  Tesla T4                       Off |   00000000:00:04.0 Off |                    0 |\n",
            "| N/A   44C    P8             10W /   70W |       0MiB /  15360MiB |      0%      Default |\n",
            "|                                         |                        |                  N/A |\n",
            "+-----------------------------------------+------------------------+----------------------+\n",
            "                                                                                         \n",
            "+-----------------------------------------------------------------------------------------+\n",
            "| Processes:                                                                              |\n",
            "|  GPU   GI   CI        PID   Type   Process name                              GPU Memory |\n",
            "|        ID   ID                                                               Usage      |\n",
            "|=========================================================================================|\n",
            "|  No running processes found                                                             |\n",
            "+-----------------------------------------------------------------------------------------+\n"
          ]
        }
      ],
      "source": [
        "!nvidia-smi"
      ]
    },
    {
      "cell_type": "code",
      "execution_count": null,
      "metadata": {
        "colab": {
          "base_uri": "https://localhost:8080/"
        },
        "id": "TKQNY2kEjFNc",
        "outputId": "13df20e8-b435-43e1-f563-4bae6b46ee4b"
      },
      "outputs": [
        {
          "name": "stdout",
          "output_type": "stream",
          "text": [
            "Mounted at /content/drive\n"
          ]
        }
      ],
      "source": [
        "from google.colab import drive\n",
        "drive.mount('/content/drive')"
      ]
    },
    {
      "cell_type": "code",
      "execution_count": null,
      "metadata": {
        "id": "t_5l2lfxjLmj"
      },
      "outputs": [],
      "source": [
        "import os\n",
        "import json\n",
        "import pickle\n",
        "\n",
        "def save_all_results(name, history, model, training_time, test_accuracy, save_dir='/content/drive/MyDrive/vgg_results'):\n",
        "    os.makedirs(save_dir, exist_ok=True)\n",
        "\n",
        "    with open(os.path.join(save_dir, f'{name}_history.json'), 'w') as f:\n",
        "        json.dump(history.history, f)\n",
        "\n",
        "    model.save(os.path.join(save_dir, f'{name}_model.h5'))\n",
        "\n",
        "    summary = {\n",
        "        'training_time': training_time,\n",
        "        'test_accuracy': test_accuracy\n",
        "    }\n",
        "    with open(os.path.join(save_dir, f'{name}_summary.json'), 'w') as f:\n",
        "        json.dump(summary, f)"
      ]
    },
    {
      "cell_type": "markdown",
      "metadata": {
        "id": "D2OGbAc0p3Gg"
      },
      "source": [
        "# Data Preprocessing"
      ]
    },
    {
      "cell_type": "code",
      "execution_count": null,
      "metadata": {
        "colab": {
          "base_uri": "https://localhost:8080/"
        },
        "id": "-Qgl5O26pWxY",
        "outputId": "9148a105-e653-47f2-b35f-0354b4560c67"
      },
      "outputs": [
        {
          "name": "stdout",
          "output_type": "stream",
          "text": [
            "Downloading data from https://www.cs.toronto.edu/~kriz/cifar-10-python.tar.gz\n",
            "\u001b[1m170498071/170498071\u001b[0m \u001b[32m━━━━━━━━━━━━━━━━━━━━\u001b[0m\u001b[37m\u001b[0m \u001b[1m14s\u001b[0m 0us/step\n"
          ]
        }
      ],
      "source": [
        "(x_train, y_train), (x_test, y_test) = cifar10.load_data()\n",
        "\n",
        "y_train, y_test = to_categorical(y_train, 10), to_categorical(y_test, 10)  # One-hot encoding\n",
        "\n",
        "# Split training data into train and validation sets\n",
        "x_train, x_val, y_train, y_val = train_test_split(x_train, y_train, test_size=0.1, random_state=42)\n",
        "\n",
        "# Resize images to (224, 224)\n",
        "def preprocess(image, label):\n",
        "    image = tf.image.resize(image, (224, 224))\n",
        "    image = tf.keras.applications.vgg16.preprocess_input(image)\n",
        "    return image, label\n",
        "\n",
        "batch_size = 32\n",
        "train_ds = tf.data.Dataset.from_tensor_slices((x_train, y_train)).map(preprocess).shuffle(1000).batch(batch_size)\n",
        "val_ds = tf.data.Dataset.from_tensor_slices((x_val, y_val)).map(preprocess).batch(batch_size)\n",
        "test_ds = tf.data.Dataset.from_tensor_slices((x_test, y_test)).map(preprocess).batch(batch_size)"
      ]
    },
    {
      "cell_type": "markdown",
      "metadata": {
        "id": "ErRFo0Hop72L"
      },
      "source": [
        "# Build Model"
      ]
    },
    {
      "cell_type": "code",
      "execution_count": null,
      "metadata": {
        "id": "Wj9DTbIoqtL_"
      },
      "outputs": [],
      "source": [
        "def train(optimizer, epochs):\n",
        "\n",
        "    base_model = VGG16(weights='imagenet', include_top=False, input_shape=(224, 224, 3))\n",
        "    base_model.trainable = False\n",
        "\n",
        "    x = base_model.output\n",
        "    x = GlobalAveragePooling2D()(x)\n",
        "    x = Dropout(0.5)(x)\n",
        "    predictions = Dense(10, activation='softmax')(x)\n",
        "\n",
        "    model = Model(inputs=base_model.input, outputs=predictions)\n",
        "    model.compile(optimizer=optimizer, loss='categorical_crossentropy', metrics=['accuracy'])\n",
        "\n",
        "    start_time = time.time()\n",
        "    history = model.fit(train_ds, epochs=epochs, validation_data=val_ds, verbose=1)\n",
        "    end_time = time.time()\n",
        "    training_time = end_time - start_time\n",
        "\n",
        "    test_loss, test_accuracy = model.evaluate(test_ds, verbose=0)\n",
        "    print(f\"Test accuracy: {test_accuracy}\")\n",
        "\n",
        "    return history, model, training_time, test_accuracy"
      ]
    },
    {
      "cell_type": "markdown",
      "metadata": {
        "id": "HKz7joZVp-tC"
      },
      "source": [
        "# Build Optimizer"
      ]
    },
    {
      "cell_type": "code",
      "execution_count": null,
      "metadata": {
        "id": "aPbRq-hEpFbQ"
      },
      "outputs": [],
      "source": [
        "class Lion(Optimizer):\n",
        "    def __init__(\n",
        "        self, learning_rate=0.001, beta_1=0.9, beta_2=0.99, weight_decay=1e-4, name=\"lion\", **kwargs):\n",
        "        super().__init__(learning_rate=learning_rate, name=name, **kwargs)\n",
        "        self.beta_1 = beta_1\n",
        "        self.beta_2 = beta_2\n",
        "        self.weight_decay = weight_decay\n",
        "\n",
        "    def build(self, var_list):\n",
        "        if self.built:\n",
        "            return\n",
        "        super().build(var_list)\n",
        "\n",
        "        self._momentums = []\n",
        "        for var in var_list:\n",
        "            self._momentums.append(\n",
        "                self.add_variable_from_reference(\n",
        "                    reference_variable=var, name=\"momentum\"\n",
        "                )\n",
        "            )\n",
        "\n",
        "    def update_step(self, gradient, variable, learning_rate):\n",
        "\n",
        "        lr = tf.cast(learning_rate, variable.dtype)\n",
        "        gradient = tf.cast(gradient, variable.dtype)\n",
        "\n",
        "        beta_1 = tf.cast(self.beta_1, variable.dtype)\n",
        "        beta_2 = tf.cast(self.beta_2, variable.dtype)\n",
        "        weight_decay = tf.cast(self.weight_decay, variable.dtype)\n",
        "\n",
        "        m = self._momentums[self._get_variable_index(variable)]\n",
        "\n",
        "        update = tf.sign(beta_1 * m + (1.0 - beta_1) * gradient)\n",
        "\n",
        "        new_m = beta_2 * m + (1.0 - beta_2) * gradient\n",
        "        self.assign(m, new_m)\n",
        "\n",
        "        final_update = lr * (weight_decay * variable + update)\n",
        "        self.assign_sub(variable, final_update)\n",
        "\n",
        "    def get_config(self):\n",
        "        config = super().get_config()\n",
        "        config.update(\n",
        "            {\n",
        "                \"beta_1\": self.beta_1,\n",
        "                \"beta_2\": self.beta_2,\n",
        "                \"learning_rate\": self._serialize_hyperparameter(\"learning_rate\"),\n",
        "                \"weight_decay\": self.weight_decay,\n",
        "            }\n",
        "        )\n",
        "        return config"
      ]
    },
    {
      "cell_type": "markdown",
      "metadata": {
        "id": "ZSpod47CqD1A"
      },
      "source": [
        "# Train Model"
      ]
    },
    {
      "cell_type": "code",
      "execution_count": null,
      "metadata": {
        "colab": {
          "base_uri": "https://localhost:8080/"
        },
        "id": "K2IX3NAHpd54",
        "outputId": "8c3630d6-1bb3-4200-8228-ccb0499d671a"
      },
      "outputs": [
        {
          "name": "stdout",
          "output_type": "stream",
          "text": [
            "Training with Nadam optimizer...\n",
            "Epoch 1/20\n",
            "\u001b[1m1407/1407\u001b[0m \u001b[32m━━━━━━━━━━━━━━━━━━━━\u001b[0m\u001b[37m\u001b[0m \u001b[1m283s\u001b[0m 198ms/step - accuracy: 0.4981 - loss: 2.3873 - val_accuracy: 0.8134 - val_loss: 0.5214\n",
            "Epoch 2/20\n",
            "\u001b[1m1407/1407\u001b[0m \u001b[32m━━━━━━━━━━━━━━━━━━━━\u001b[0m\u001b[37m\u001b[0m \u001b[1m304s\u001b[0m 185ms/step - accuracy: 0.7310 - loss: 0.8135 - val_accuracy: 0.8184 - val_loss: 0.5161\n",
            "Epoch 3/20\n",
            "\u001b[1m1407/1407\u001b[0m \u001b[32m━━━━━━━━━━━━━━━━━━━━\u001b[0m\u001b[37m\u001b[0m \u001b[1m262s\u001b[0m 185ms/step - accuracy: 0.7419 - loss: 0.7735 - val_accuracy: 0.8270 - val_loss: 0.4963\n",
            "Epoch 4/20\n",
            "\u001b[1m1407/1407\u001b[0m \u001b[32m━━━━━━━━━━━━━━━━━━━━\u001b[0m\u001b[37m\u001b[0m \u001b[1m279s\u001b[0m 196ms/step - accuracy: 0.7414 - loss: 0.7663 - val_accuracy: 0.8234 - val_loss: 0.5114\n",
            "Epoch 5/20\n",
            "\u001b[1m1407/1407\u001b[0m \u001b[32m━━━━━━━━━━━━━━━━━━━━\u001b[0m\u001b[37m\u001b[0m \u001b[1m306s\u001b[0m 186ms/step - accuracy: 0.7421 - loss: 0.7695 - val_accuracy: 0.8184 - val_loss: 0.5196\n",
            "Epoch 6/20\n",
            "\u001b[1m1407/1407\u001b[0m \u001b[32m━━━━━━━━━━━━━━━━━━━━\u001b[0m\u001b[37m\u001b[0m \u001b[1m337s\u001b[0m 197ms/step - accuracy: 0.7434 - loss: 0.7743 - val_accuracy: 0.8258 - val_loss: 0.4974\n",
            "Epoch 7/20\n",
            "\u001b[1m1407/1407\u001b[0m \u001b[32m━━━━━━━━━━━━━━━━━━━━\u001b[0m\u001b[37m\u001b[0m \u001b[1m278s\u001b[0m 196ms/step - accuracy: 0.7417 - loss: 0.7674 - val_accuracy: 0.8188 - val_loss: 0.5114\n",
            "Epoch 8/20\n",
            "\u001b[1m1407/1407\u001b[0m \u001b[32m━━━━━━━━━━━━━━━━━━━━\u001b[0m\u001b[37m\u001b[0m \u001b[1m278s\u001b[0m 196ms/step - accuracy: 0.7389 - loss: 0.7780 - val_accuracy: 0.8180 - val_loss: 0.5152\n",
            "Epoch 9/20\n",
            "\u001b[1m1407/1407\u001b[0m \u001b[32m━━━━━━━━━━━━━━━━━━━━\u001b[0m\u001b[37m\u001b[0m \u001b[1m322s\u001b[0m 197ms/step - accuracy: 0.7397 - loss: 0.7772 - val_accuracy: 0.8258 - val_loss: 0.5097\n",
            "Epoch 10/20\n",
            "\u001b[1m1407/1407\u001b[0m \u001b[32m━━━━━━━━━━━━━━━━━━━━\u001b[0m\u001b[37m\u001b[0m \u001b[1m278s\u001b[0m 196ms/step - accuracy: 0.7450 - loss: 0.7699 - val_accuracy: 0.8198 - val_loss: 0.5062\n",
            "Epoch 11/20\n",
            "\u001b[1m1407/1407\u001b[0m \u001b[32m━━━━━━━━━━━━━━━━━━━━\u001b[0m\u001b[37m\u001b[0m \u001b[1m263s\u001b[0m 186ms/step - accuracy: 0.7447 - loss: 0.7692 - val_accuracy: 0.8300 - val_loss: 0.4879\n",
            "Epoch 12/20\n",
            "\u001b[1m1407/1407\u001b[0m \u001b[32m━━━━━━━━━━━━━━━━━━━━\u001b[0m\u001b[37m\u001b[0m \u001b[1m338s\u001b[0m 197ms/step - accuracy: 0.7385 - loss: 0.7756 - val_accuracy: 0.8188 - val_loss: 0.5081\n",
            "Epoch 13/20\n",
            "\u001b[1m1407/1407\u001b[0m \u001b[32m━━━━━━━━━━━━━━━━━━━━\u001b[0m\u001b[37m\u001b[0m \u001b[1m305s\u001b[0m 185ms/step - accuracy: 0.7447 - loss: 0.7624 - val_accuracy: 0.8280 - val_loss: 0.4925\n",
            "Epoch 14/20\n",
            "\u001b[1m1407/1407\u001b[0m \u001b[32m━━━━━━━━━━━━━━━━━━━━\u001b[0m\u001b[37m\u001b[0m \u001b[1m262s\u001b[0m 185ms/step - accuracy: 0.7437 - loss: 0.7663 - val_accuracy: 0.8282 - val_loss: 0.4901\n",
            "Epoch 15/20\n",
            "\u001b[1m1407/1407\u001b[0m \u001b[32m━━━━━━━━━━━━━━━━━━━━\u001b[0m\u001b[37m\u001b[0m \u001b[1m262s\u001b[0m 185ms/step - accuracy: 0.7407 - loss: 0.7702 - val_accuracy: 0.8272 - val_loss: 0.4906\n",
            "Epoch 16/20\n",
            "\u001b[1m1407/1407\u001b[0m \u001b[32m━━━━━━━━━━━━━━━━━━━━\u001b[0m\u001b[37m\u001b[0m \u001b[1m262s\u001b[0m 185ms/step - accuracy: 0.7431 - loss: 0.7756 - val_accuracy: 0.8236 - val_loss: 0.4997\n",
            "Epoch 17/20\n",
            "\u001b[1m1407/1407\u001b[0m \u001b[32m━━━━━━━━━━━━━━━━━━━━\u001b[0m\u001b[37m\u001b[0m \u001b[1m322s\u001b[0m 185ms/step - accuracy: 0.7462 - loss: 0.7606 - val_accuracy: 0.8264 - val_loss: 0.4935\n",
            "Epoch 18/20\n",
            "\u001b[1m1407/1407\u001b[0m \u001b[32m━━━━━━━━━━━━━━━━━━━━\u001b[0m\u001b[37m\u001b[0m \u001b[1m263s\u001b[0m 186ms/step - accuracy: 0.7451 - loss: 0.7636 - val_accuracy: 0.8232 - val_loss: 0.5014\n",
            "Epoch 19/20\n",
            "\u001b[1m1407/1407\u001b[0m \u001b[32m━━━━━━━━━━━━━━━━━━━━\u001b[0m\u001b[37m\u001b[0m \u001b[1m278s\u001b[0m 196ms/step - accuracy: 0.7411 - loss: 0.7706 - val_accuracy: 0.8216 - val_loss: 0.5153\n",
            "Epoch 20/20\n",
            "\u001b[1m1407/1407\u001b[0m \u001b[32m━━━━━━━━━━━━━━━━━━━━\u001b[0m\u001b[37m\u001b[0m \u001b[1m263s\u001b[0m 185ms/step - accuracy: 0.7391 - loss: 0.7761 - val_accuracy: 0.8276 - val_loss: 0.5030\n"
          ]
        },
        {
          "name": "stderr",
          "output_type": "stream",
          "text": [
            "WARNING:absl:You are saving your model as an HDF5 file via `model.save()` or `keras.saving.save_model(model)`. This file format is considered legacy. We recommend using instead the native Keras format, e.g. `model.save('my_model.keras')` or `keras.saving.save_model(model, 'my_model.keras')`. \n"
          ]
        },
        {
          "name": "stdout",
          "output_type": "stream",
          "text": [
            "Test accuracy: 0.8267999887466431\n"
          ]
        }
      ],
      "source": [
        "optimizers = {\n",
        "#    'SGD': SGD(learning_rate=0.001, momentum=0.9),\n",
        "#    'SGD_Nesterov': SGD(learning_rate=0.001, momentum=0.9, nesterov=True),\n",
        "#    'Adam': Adam(learning_rate=0.001),\n",
        "#    'Adam_Amsgrad': Adam(learning_rate=0.001, amsgrad=True),\n",
        "#    'AdamW': AdamW(learning_rate=0.001, weight_decay=1e-4),\n",
        "    'Nadam': Nadam(learning_rate=0.001),\n",
        "#    'Lion': Lion(learning_rate=1e-4)\n",
        "}\n",
        "\n",
        "histories = {}\n",
        "training_times = {}\n",
        "models = {}\n",
        "test_accuracies = {}\n",
        "\n",
        "for name, optimizer in optimizers.items():\n",
        "    print(f\"Training with {name} optimizer...\")\n",
        "    \n",
        "    histories[name], models[name], training_times[name], test_accuracies[name] = train(optimizer, 20)\n",
        "\n",
        "    save_all_results(name, histories[name], models[name], training_times[name], test_accuracies[name])"
      ]
    }
  ],
  "metadata": {
    "accelerator": "GPU",
    "colab": {
      "gpuClass": "premium",
      "gpuType": "T4",
      "provenance": []
    },
    "kernelspec": {
      "display_name": "Python 3",
      "language": "python",
      "name": "python3"
    },
    "language_info": {
      "name": "python",
      "version": "3.11.1 (v3.11.1:a7a450f84a, Dec  6 2022, 15:24:06) [Clang 13.0.0 (clang-1300.0.29.30)]"
    },
    "vscode": {
      "interpreter": {
        "hash": "aee8b7b246df8f9039afb4144a1f6fd8d2ca17a180786b69acc140d282b71a49"
      }
    }
  },
  "nbformat": 4,
  "nbformat_minor": 0
}
